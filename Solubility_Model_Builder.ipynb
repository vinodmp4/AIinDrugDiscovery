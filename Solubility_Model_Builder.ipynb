{
  "nbformat": 4,
  "nbformat_minor": 0,
  "metadata": {
    "colab": {
      "provenance": [],
      "authorship_tag": "ABX9TyO6+nE4eIeUYv/xiv/xQmJy",
      "include_colab_link": true
    },
    "kernelspec": {
      "name": "python3",
      "display_name": "Python 3"
    },
    "language_info": {
      "name": "python"
    }
  },
  "cells": [
    {
      "cell_type": "markdown",
      "metadata": {
        "id": "view-in-github",
        "colab_type": "text"
      },
      "source": [
        "<a href=\"https://colab.research.google.com/github/vinodmp4/AIinDrugDiscovery/blob/main/Solubility_Model_Builder.ipynb\" target=\"_parent\"><img src=\"https://colab.research.google.com/assets/colab-badge.svg\" alt=\"Open In Colab\"/></a>"
      ]
    },
    {
      "cell_type": "markdown",
      "source": [
        "https://pubs.acs.org/doi/10.1021/ci034243x"
      ],
      "metadata": {
        "id": "1U1hYYWprWRp"
      }
    },
    {
      "cell_type": "code",
      "source": [
        "!pip install rdkit\n",
        "!pip install xgboost"
      ],
      "metadata": {
        "id": "i1fWH0PsGfE4"
      },
      "execution_count": null,
      "outputs": []
    },
    {
      "cell_type": "code",
      "execution_count": 6,
      "metadata": {
        "id": "re5p5iHnyC2Z"
      },
      "outputs": [],
      "source": [
        "import xgboost as xgb\n",
        "import pandas as pd\n",
        "import numpy as np\n",
        "import seaborn as sns\n",
        "from rdkit import Chem\n",
        "from rdkit.Chem import Descriptors\n",
        "from sklearn.model_selection import train_test_split\n",
        "import matplotlib.pyplot as plt\n",
        "%matplotlib inline"
      ]
    },
    {
      "cell_type": "code",
      "source": [
        "!wget https://raw.githubusercontent.com/vinodmp4/AIinDrugDiscovery/refs/heads/main/solubility.csv"
      ],
      "metadata": {
        "id": "swSSUm0rdPHR"
      },
      "execution_count": null,
      "outputs": []
    },
    {
      "cell_type": "code",
      "source": [
        "inputfile = pd.read_csv('solubility.csv')\n",
        "inputfile.head(5)"
      ],
      "metadata": {
        "id": "ZKpHSiDDycyl"
      },
      "execution_count": null,
      "outputs": []
    },
    {
      "cell_type": "code",
      "source": [
        "smiles = list(inputfile['smiles'])\n",
        "mols = [Chem.MolFromSmiles(mol) for mol in smiles]\n",
        "LogP = [Descriptors.MolLogP(mol) for mol in mols]\n",
        "MW = [Descriptors.MolWt(mol) for mol in mols]\n",
        "RB = [Descriptors.NumRotatableBonds(mol) for mol in mols]\n",
        "#------------------------\n",
        "HeavyAtoms = [Descriptors.HeavyAtomCount(mol) for mol in mols]\n",
        "AROM_ATOM_COUNTS = [sum([mol.GetAtomWithIdx(i).GetIsAromatic() for i in range(mol.GetNumAtoms())]) for mol in mols]\n",
        "APRatio = [AR/HA for AR,HA in zip(AROM_ATOM_COUNTS,HeavyAtoms)]\n",
        "#------------------------\n",
        "inputfile['LogP'] = LogP\n",
        "inputfile['MW'] = MW\n",
        "inputfile['RB'] = RB\n",
        "inputfile['APRatio'] = APRatio\n",
        "\n",
        "def getDescriptors(smilestext):\n",
        "    thismol = Chem.MolFromSmiles(smilestext)\n",
        "    descriptors = []\n",
        "    descriptors.append(Descriptors.MolLogP(thismol))\n",
        "    descriptors.append(Descriptors.MolWt(thismol))\n",
        "    descriptors.append(Descriptors.NumRotatableBonds(thismol))\n",
        "    descriptors.append(sum([thismol.GetAtomWithIdx(i).GetIsAromatic() for i in range(thismol.GetNumAtoms())])/Descriptors.HeavyAtomCount(thismol))\n",
        "    return descriptors"
      ],
      "metadata": {
        "id": "KluC_RyUGkJM"
      },
      "execution_count": 9,
      "outputs": []
    },
    {
      "cell_type": "code",
      "source": [
        "inputfile.to_csv('mldata.csv', index=False)\n",
        "inputfile.head(5)"
      ],
      "metadata": {
        "id": "hrQDqp7tIvep"
      },
      "execution_count": null,
      "outputs": []
    },
    {
      "cell_type": "code",
      "source": [
        "TARGET = inputfile['logSolubility']\n",
        "FEATURES = inputfile.drop(['logSolubility','smiles'], axis=1)\n",
        "X_train, X_test, Y_train, Y_test = train_test_split(FEATURES, TARGET, test_size=0.2,random_state=42)"
      ],
      "metadata": {
        "id": "D-_cFUzQJppf"
      },
      "execution_count": 11,
      "outputs": []
    },
    {
      "cell_type": "code",
      "source": [
        "model = xgb.XGBRegressor(objective ='reg:squarederror', n_estimators = 10, seed = 123)"
      ],
      "metadata": {
        "id": "l3LbMBV6yWq-"
      },
      "execution_count": 12,
      "outputs": []
    },
    {
      "cell_type": "code",
      "source": [
        "history = model.fit(X_train, Y_train)"
      ],
      "metadata": {
        "id": "3OxAFA5qLCdt"
      },
      "execution_count": 13,
      "outputs": []
    },
    {
      "cell_type": "code",
      "source": [
        "PREDICTIONS = model.predict(X_test)"
      ],
      "metadata": {
        "id": "wwqU2yPxWPpL"
      },
      "execution_count": 14,
      "outputs": []
    },
    {
      "cell_type": "code",
      "source": [
        "plt.scatter(Y_test, PREDICTIONS, c=\"#7CAE99\", alpha=0.4, edgecolor = \"black\")\n",
        "plt.plot(Y_test,Y_test,\"-r\")\n",
        "plt.ylabel('Predicted LogS');plt.xlabel('Experimental LogS')"
      ],
      "metadata": {
        "id": "_N1Yif5cZCbT"
      },
      "execution_count": null,
      "outputs": []
    },
    {
      "cell_type": "code",
      "source": [
        "CORRDATA = inputfile.drop(['smiles'], axis=1)\n",
        "train, test = train_test_split(CORRDATA, test_size=0.2,random_state=42)\n",
        "corrmap = train.corr()\n",
        "sns.heatmap(corrmap, annot = True, vmin = -1)"
      ],
      "metadata": {
        "id": "VGF9ZwINqLk-"
      },
      "execution_count": null,
      "outputs": []
    },
    {
      "cell_type": "code",
      "source": [
        "mydata = getDescriptors(\"O=[Si]=O\")  #CC(=O)Nc1ccc(O)cc1 ,OCC, C(=O)([O-])[O-].[Ca+2], O=[Si]=O\n",
        "round(float(model.predict([mydata])[0]),2)"
      ],
      "metadata": {
        "id": "bXrLn171gztZ"
      },
      "execution_count": null,
      "outputs": []
    },
    {
      "cell_type": "code",
      "source": [
        "model.save_model('solubility_model.json')"
      ],
      "metadata": {
        "id": "bvItDqqAlwPU"
      },
      "execution_count": 18,
      "outputs": []
    }
  ]
}