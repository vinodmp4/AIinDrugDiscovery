{
  "nbformat": 4,
  "nbformat_minor": 0,
  "metadata": {
    "colab": {
      "provenance": [],
      "authorship_tag": "ABX9TyNBNfwhQ6kUrP8t/SgtzkuO",
      "include_colab_link": true
    },
    "kernelspec": {
      "name": "python3",
      "display_name": "Python 3"
    },
    "language_info": {
      "name": "python"
    }
  },
  "cells": [
    {
      "cell_type": "markdown",
      "metadata": {
        "id": "view-in-github",
        "colab_type": "text"
      },
      "source": [
        "<a href=\"https://colab.research.google.com/github/vinodmp4/AIinDrugDiscovery/blob/main/Generative_AI.ipynb\" target=\"_parent\"><img src=\"https://colab.research.google.com/assets/colab-badge.svg\" alt=\"Open In Colab\"/></a>"
      ]
    },
    {
      "cell_type": "code",
      "execution_count": null,
      "metadata": {
        "id": "35nR9J377BIZ"
      },
      "outputs": [],
      "source": [
        "!pip install -q condacolab\n",
        "!pip install rdkit\n",
        "import condacolab\n",
        "condacolab.install()"
      ]
    },
    {
      "cell_type": "code",
      "source": [
        "import condacolab\n",
        "from rdkit import Chem\n",
        "condacolab.check()"
      ],
      "metadata": {
        "id": "nXrxfs_l7abo"
      },
      "execution_count": null,
      "outputs": []
    },
    {
      "cell_type": "code",
      "source": [
        "!git clone https://github.com/arneschneuing/DiffSBDD.git"
      ],
      "metadata": {
        "id": "KwFWMwgS7q69"
      },
      "execution_count": null,
      "outputs": []
    },
    {
      "cell_type": "markdown",
      "source": [
        "10 mins for Installation"
      ],
      "metadata": {
        "id": "6sUApwV5pEEf"
      }
    },
    {
      "cell_type": "code",
      "source": [
        "!conda env create -f /content/DiffSBDD/environment.yaml -n diffsbdd"
      ],
      "metadata": {
        "id": "swtixyR97_od"
      },
      "execution_count": null,
      "outputs": []
    },
    {
      "cell_type": "code",
      "source": [
        "!source activate diffsbdd && pip install matplotlib-inline"
      ],
      "metadata": {
        "id": "ONcvJ3CYAoo6"
      },
      "execution_count": null,
      "outputs": []
    },
    {
      "cell_type": "code",
      "source": [
        "!wget -P checkpoints/ https://zenodo.org/record/8183747/files/crossdocked_fullatom_cond.ckpt"
      ],
      "metadata": {
        "id": "kUvmZl7e8wBk"
      },
      "execution_count": null,
      "outputs": []
    },
    {
      "cell_type": "code",
      "source": [
        "!wget https://files.rcsb.org/download/1RN4.pdb"
      ],
      "metadata": {
        "id": "RTMAnyk7_Yf9"
      },
      "execution_count": null,
      "outputs": []
    },
    {
      "cell_type": "markdown",
      "source": [
        "10 minutes for Molecule Generation"
      ],
      "metadata": {
        "id": "eBnR_sG8p2sx"
      }
    },
    {
      "cell_type": "code",
      "source": [
        "!source activate diffsbdd && python /content/DiffSBDD/generate_ligands.py /content/checkpoints/crossdocked_fullatom_cond.ckpt --pdbfile 1RN4.pdb --outfile generated_ligands.sdf --ref_ligand A:105 --n_samples 5"
      ],
      "metadata": {
        "id": "SkJJBDeM-VoU"
      },
      "execution_count": null,
      "outputs": []
    },
    {
      "cell_type": "code",
      "source": [
        "suppl = Chem.SDMolSupplier('/content/generated_ligands.sdf')"
      ],
      "metadata": {
        "id": "JoQYC5JmNp-3"
      },
      "execution_count": 8,
      "outputs": []
    },
    {
      "cell_type": "code",
      "source": [
        "for mol in suppl:\n",
        "    if mol is not None:\n",
        "        print(Chem.MolToSmiles(mol))"
      ],
      "metadata": {
        "id": "tEPG6jboN3xi"
      },
      "execution_count": null,
      "outputs": []
    }
  ]
}