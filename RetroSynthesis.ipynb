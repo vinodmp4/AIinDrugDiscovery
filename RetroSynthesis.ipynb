{
  "cells": [
    {
      "cell_type": "markdown",
      "metadata": {
        "id": "view-in-github",
        "colab_type": "text"
      },
      "source": [
        "<a href=\"https://colab.research.google.com/github/vinodmp4/AIinDrugDiscovery/blob/main/RetroSynthesis.ipynb\" target=\"_parent\"><img src=\"https://colab.research.google.com/assets/colab-badge.svg\" alt=\"Open In Colab\"/></a>"
      ]
    },
    {
      "cell_type": "code",
      "source": [
        "!pip install -q condacolab\n",
        "import condacolab\n",
        "condacolab.install()"
      ],
      "metadata": {
        "id": "0rnH4oTsuRzb"
      },
      "execution_count": null,
      "outputs": []
    },
    {
      "cell_type": "code",
      "source": [
        "import condacolab\n",
        "condacolab.check()"
      ],
      "metadata": {
        "id": "XVpZ7U_gug5d"
      },
      "execution_count": null,
      "outputs": []
    },
    {
      "cell_type": "code",
      "source": [
        "!conda create \"python>=3.9,<3.11\" -n aizynth-env"
      ],
      "metadata": {
        "id": "mDG1NiAHulDJ"
      },
      "execution_count": null,
      "outputs": []
    },
    {
      "cell_type": "code",
      "source": [
        "!source activate aizynth-env && python -m pip install aizynthfinder[all]"
      ],
      "metadata": {
        "id": "Zhn_iqgooSqK"
      },
      "execution_count": null,
      "outputs": []
    },
    {
      "cell_type": "code",
      "source": [
        "!source activate aizynth-env && mkdir model_data && download_public_data model_data"
      ],
      "metadata": {
        "id": "kQd6myVOpmkc"
      },
      "execution_count": null,
      "outputs": []
    },
    {
      "cell_type": "code",
      "source": [
        "!wget https://raw.githubusercontent.com/vinodmp4/AIinDrugDiscovery/refs/heads/main/smiles.txt"
      ],
      "metadata": {
        "id": "sogcrVhDHE5R"
      },
      "execution_count": null,
      "outputs": []
    },
    {
      "cell_type": "code",
      "source": [
        "!source activate aizynth-env && aizynthcli --config model_data/config.yml --smiles smiles.txt"
      ],
      "metadata": {
        "id": "IdjcsG33qnEo"
      },
      "execution_count": null,
      "outputs": []
    },
    {
      "cell_type": "code",
      "source": [
        "!mkdir routes\n",
        "!wget https://raw.githubusercontent.com/vinodmp4/AIinDrugDiscovery/refs/heads/main/runsource.py\n",
        "!source activate aizynth-env && python runsource.py\n",
        "!zip -r routes.zip routes"
      ],
      "metadata": {
        "id": "3hrJGbkIGvcS"
      },
      "execution_count": null,
      "outputs": []
    }
  ],
  "metadata": {
    "colab": {
      "provenance": [],
      "gpuType": "T4",
      "authorship_tag": "ABX9TyPz2OhahrTQfz+fKVF//3MH",
      "include_colab_link": true
    },
    "kernelspec": {
      "display_name": "Python 3",
      "name": "python3"
    },
    "language_info": {
      "name": "python"
    },
    "accelerator": "GPU"
  },
  "nbformat": 4,
  "nbformat_minor": 0
}