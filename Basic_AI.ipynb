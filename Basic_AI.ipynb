{
  "nbformat": 4,
  "nbformat_minor": 0,
  "metadata": {
    "colab": {
      "provenance": [],
      "authorship_tag": "ABX9TyOAMj2DiJnUXRW1ATAbWHMj",
      "include_colab_link": true
    },
    "kernelspec": {
      "name": "python3",
      "display_name": "Python 3"
    },
    "language_info": {
      "name": "python"
    }
  },
  "cells": [
    {
      "cell_type": "markdown",
      "metadata": {
        "id": "view-in-github",
        "colab_type": "text"
      },
      "source": [
        "<a href=\"https://colab.research.google.com/github/vinodmp4/AIinDrugDiscovery/blob/main/Basic_AI.ipynb\" target=\"_parent\"><img src=\"https://colab.research.google.com/assets/colab-badge.svg\" alt=\"Open In Colab\"/></a>"
      ]
    },
    {
      "cell_type": "code",
      "execution_count": null,
      "metadata": {
        "id": "w0-Wh7cwAmob"
      },
      "outputs": [],
      "source": [
        "import tensorflow as tf"
      ]
    },
    {
      "cell_type": "code",
      "source": [
        "x = tf.constant([1, 2, 3, 4, 5,  6,  7,  8,  9,  10])\n",
        "y = tf.constant([2, 4, 6, 8, 10, 12, 14, 16, 18, 20])"
      ],
      "metadata": {
        "id": "gDuiSFwAA8aE"
      },
      "execution_count": null,
      "outputs": []
    },
    {
      "cell_type": "code",
      "source": [
        "model = tf.keras.models.Sequential()\n",
        "model.add(tf.keras.layers.Input((1,)))\n",
        "model.add(tf.keras.layers.Dense(units=1,use_bias=False))\n",
        "model.compile(loss='mae')"
      ],
      "metadata": {
        "id": "kmP3UXu_BUdg"
      },
      "execution_count": null,
      "outputs": []
    },
    {
      "cell_type": "code",
      "source": [
        "history = model.fit(x, y, epochs=100, batch_size=1)"
      ],
      "metadata": {
        "id": "hYtRemlMB2tt"
      },
      "execution_count": null,
      "outputs": []
    },
    {
      "cell_type": "code",
      "source": [
        "pred = model.predict(tf.constant([15]))\n",
        "print(pred[0])"
      ],
      "metadata": {
        "id": "zEycMw0EB9vb"
      },
      "execution_count": null,
      "outputs": []
    }
  ]
}