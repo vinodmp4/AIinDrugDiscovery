{
  "nbformat": 4,
  "nbformat_minor": 0,
  "metadata": {
    "colab": {
      "provenance": [],
      "authorship_tag": "ABX9TyONmWTgfvEn/yVjQEfwB1N0",
      "include_colab_link": true
    },
    "kernelspec": {
      "name": "python3",
      "display_name": "Python 3"
    },
    "language_info": {
      "name": "python"
    }
  },
  "cells": [
    {
      "cell_type": "markdown",
      "metadata": {
        "id": "view-in-github",
        "colab_type": "text"
      },
      "source": [
        "<a href=\"https://colab.research.google.com/github/vinodmp4/AIinDrugDiscovery/blob/main/Solubility_Model_User.ipynb\" target=\"_parent\"><img src=\"https://colab.research.google.com/assets/colab-badge.svg\" alt=\"Open In Colab\"/></a>"
      ]
    },
    {
      "cell_type": "code",
      "source": [
        "!pip install rdkit\n",
        "!pip install xgboost"
      ],
      "metadata": {
        "id": "HvakgaUYeqG5"
      },
      "execution_count": null,
      "outputs": []
    },
    {
      "cell_type": "code",
      "execution_count": 3,
      "metadata": {
        "id": "qE_fdeH3dyWk"
      },
      "outputs": [],
      "source": [
        "import xgboost as xgb\n",
        "from rdkit import Chem\n",
        "from rdkit.Chem import Descriptors\n",
        "\n",
        "def getDescriptors(smilestext):\n",
        "    thismol = Chem.MolFromSmiles(smilestext)\n",
        "    descriptors = []\n",
        "    descriptors.append(Descriptors.MolLogP(thismol))\n",
        "    descriptors.append(Descriptors.MolWt(thismol))\n",
        "    descriptors.append(Descriptors.NumRotatableBonds(thismol))\n",
        "    descriptors.append(sum([thismol.GetAtomWithIdx(i).GetIsAromatic() for i in range(thismol.GetNumAtoms())])/Descriptors.HeavyAtomCount(thismol))\n",
        "    return descriptors"
      ]
    },
    {
      "cell_type": "code",
      "source": [
        "!wget https://raw.githubusercontent.com/vinodmp4/AIinDrugDiscovery/refs/heads/main/solubility_model.json"
      ],
      "metadata": {
        "id": "TV43S-dWd_-o"
      },
      "execution_count": null,
      "outputs": []
    },
    {
      "cell_type": "code",
      "source": [
        "model = xgb.XGBRegressor()\n",
        "model.load_model('solubility_model.json')"
      ],
      "metadata": {
        "id": "No8VA6lad_XJ"
      },
      "execution_count": 5,
      "outputs": []
    },
    {
      "cell_type": "code",
      "source": [
        "mydata = getDescriptors(\"O=[Si]=O\")  #CC(=O)Nc1ccc(O)cc1 ,OCC, C(=O)([O-])[O-].[Ca+2], O=[Si]=O\n",
        "round(float(model.predict([mydata])[0]),2)"
      ],
      "metadata": {
        "id": "rdk9qH1hd7sV"
      },
      "execution_count": null,
      "outputs": []
    }
  ]
}